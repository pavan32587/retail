{
 "cells": [
  {
   "cell_type": "markdown",
   "metadata": {},
   "source": [
    "## Overview\n",
    "\n",
    "`smart-aircon` is a small python program whose main job is to predict air conditioner controlling actions from user. The prediction is based on user context information collected through sensor system.\n",
    "\n",
    "In order to fulfil such a job, it firstly needs to build a prediction model from previously observed data, and certainly before that, it also needs to perform data pre-processing. So, basically `smart-aircon.py` will do these following tasks:\n",
    "\n",
    "+ Processing raw data. Sensor data in raw format can be processed for constructing the prediction model.\n",
    "+ Training model from processed data; the model are later used for generating prediction.\n",
    "+ Making prediction given a sensor data input with the trained model.\n",
    "+ Evaluating prediction performance of the model (for analysis purpose, not yet implemented).\n",
    "+ Reinforcing model; using user's feedback data to improve model prediction performance (more research needs).\n",
    "\n",
    "### Download and installation\n",
    "The program source code can be downloaded from [this github repository](https://github.com/reogac/smart-home.git).\n",
    "\n",
    "You will need [git](https://en.wikipedia.org/wiki/Git_(software)) to clone the repository\n",
    "\n",
    "```bash\n",
    "    git clone https://github.com/reogac/smart-home.git\n",
    "```\n",
    "Several python packages are requred for running the program, including [scikit-learn](http://scikit-learn.org) (for classification model learning), [pickle](https://docs.python.org/3/library/pickle.html) (for python objsect serialization) and [pandas](http://pandas.pydata.org/) (for data frame processing).\n",
    "\n",
    "### Demo\n",
    "If you are not familiar with python package installation, perhaps it is a better idea to try the program on a ready-to-run computer. I have installed the program as well as neccesary packages on a Beaglebone black (BBB) machine. The machine can be accessed using ssh (debian/temppwd):\n",
    "\n",
    "```bash\n",
    "    ssh debian@reogac.iptime.org -p 2200\n",
    "```\n",
    "\n",
    "Once you are at the terminal console of the BBB, go the folder that has the program:\n",
    "\n",
    "```bash\n",
    "    cd ~/smart-home\n",
    "```\n",
    "\n",
    "From there, following below instructions to run the program.\n",
    "\n",
    "\n",
    "## Usage\n",
    "\n",
    "Program usage will be shown up with this command:"
   ]
  },
  {
   "cell_type": "code",
   "execution_count": 5,
   "metadata": {
    "collapsed": false,
    "scrolled": true
   },
   "outputs": [
    {
     "name": "stdout",
     "output_type": "stream",
     "text": [
      "usage: smart-aircon.py command [options]\r\n",
      "\r\n",
      "Home air conditioner controller smart engine\r\n",
      "\r\n",
      "positional arguments:\r\n",
      "  {process,train,predict,reinforce,evaluate}\r\n",
      "                        tell the program what to do\r\n",
      "\r\n",
      "optional arguments:\r\n",
      "  -h, --help            show this help message and exit\r\n",
      "  -c {tree,forest}, --classifier {tree,forest}\r\n",
      "                        Select classification model (Decision tree or Random\r\n",
      "                        forest)\r\n",
      "  -t CSV_FILE, --csv_file CSV_FILE\r\n",
      "                        file containing the original sensor data, default name\r\n",
      "                        = 'sensor.csv'\r\n",
      "  -d DATA_FILE, --data_file DATA_FILE\r\n",
      "                        file to save/load the processed sensor data, default\r\n",
      "                        name = 'sensor.pk'\r\n",
      "  -m MODEL_FILE, --model MODEL_FILE\r\n",
      "                        file to save/load the prediction model, default name =\r\n",
      "                        'model.pk'\r\n",
      "  -s SENSORS, --sensors SENSORS\r\n",
      "                        sensor data for which prediction should be made, here\r\n",
      "                        is a sample format: \"ac_status=1, temp=37,\r\n",
      "                        humidity=50, dust=100, CO2=1000, light=30, day=2,\r\n",
      "                        hour=19.5\"\r\n",
      "  -l LOG, --log LOG     where to save log messages\r\n"
     ]
    }
   ],
   "source": [
    "!./smart-aircon.py --help"
   ]
  },
  {
   "cell_type": "markdown",
   "metadata": {},
   "source": [
    "## <a id=\"training-model\"/>Training model\n",
    "\n",
    "\n",
    "Before prediction can be made, a model must be trained from observed data. Usually the training should be performed on a computer with high computation power. However, some algorithms such as decision tree, random forest, can perform comfortably on lightweight machines such as Beaglebone black, as long as the data size is reasonable small.\n",
    "\n",
    "The input for training model can be raw data in csv format or processed data which was the output of [data processing step](#data-processing).\n",
    "\n",
    "For input is raw data, the command should be:\n",
    "```bash\n",
    "    smart-aircon train -t raw-data-file -m model-file -c classification-method\n",
    "```\n",
    "\n",
    "For input is processed data, the command should be:\n",
    "```bash\n",
    "    smart-aircon train -d processed-data-file -m model-file -c classification-method\n",
    "```\n",
    "\n",
    "Here, the classification method can either be `tree` for Desison tree or `forest` for Random forest. Default value for the parameter is `tree`.\n",
    "\n",
    "If the training succeed, it should save the model into the specified `model-file`.\n",
    "\n",
    "Training should be performed periodically. It can be done easily on any linux system by using a time-based scheduler such as [crontab](https://en.wikipedia.org/wiki/Cron).\n",
    "\n",
    "### Note\n",
    "Currently model trained on 64 bit computer can not be loaded on BBB (32 bit machine). The reason is that `scikit-learn` package uses different data types on the two architectures. A work around solution is to install a 32bit linux OS for training the model.\n"
   ]
  },
  {
   "cell_type": "markdown",
   "metadata": {},
   "source": [
    "## <a id=\"data-processing\"/>Data pre-processing\n",
    "\n",
    "Training model consists of two consecutive steps: pre-processing raw data and learning model (from the processed data). Both steps are computational extensive on lightweight machine, thus it is advisible to perform one or both of them on more powerful computer then copy the output to the target machine. While different classification algorithms may require diffrent levels of computational power, the requirment for data pre-processing stays the same, mostly depending on the size of the data. Breaking down the training into two therefore makes deployment more flexible.\n",
    "\n",
    "Pre-processing raw data can be perform with this following command:\n",
    "\n",
    "``` bash\n",
    "    smart-aircon process -t raw--data-file -d processed-data-file\n",
    "```\n",
    "Here `raw-data-file` is the sensor data collected in a csv format and `processed-data-file` is the output file. The processed data then can be used as input for [model training](#training-model)\n"
   ]
  },
  {
   "cell_type": "markdown",
   "metadata": {},
   "source": [
    "## Making a prediction\n",
    "\n",
    "Once the model is trained, the program can make prediction of user action based on input data from sensor system. Inputs should be all sensor information measured at the time of predition. To make a prediction, the following command should be called:\n",
    "\n",
    "```bash\n",
    "    smart-aircon predict --sensors sensor-data\n",
    "```\n",
    "where the `sensor-data` should conform to the format examplified like this:\n",
    "```bash\n",
    "\"ac_status=1, temp=37, humidity=50, dust=100, CO2=1000, light=30, day=2,hour=19.5\"\n",
    "```\n",
    "\n",
    "The command return the predicted action of user which can be one of three possible outcomes: `TURN-ON`, `TURN-OFF` or `DO-NOTHING`.\n",
    "\n",
    "### When to make prediction?\n",
    "\n",
    "Let suppose that we have a module called `Action Recommender` that interacts with user and recommend him which action he should take then act accordingly to the his decision (turn on/off the air conditioner). Basically, the module should interface with three other modules:\n",
    "\n",
    " + interacts with user mobile application (it can be `restful` or any kind of message-based interface)\n",
    " + interacts with prediction module (this program, aka `smart-aircon`; interface is command line)\n",
    " + interacts with controller module (to control air conditioner)\n",
    " \n",
    "The module should not wait for user to initiate a prediction request, instead it has to make prediction pediodically. In order to do so, it should read sensor data, for example, in every 3 minutes, then call the prediction command to get the predicted user action. Depending on the prediction outcome, it can choose either to ignore (do nothing) or recommend user to take a action (turn on or turn off).\n",
    "\n",
    "Therefore, the `Action Recommender` should be implemented as a daemon or it can be a bash or python script associated with a crontab job that runs periodically (3 minutes).\n",
    "\n",
    "## Model reinforcemence\n",
    "\n",
    "Model reinforcement is the process of re-training the model upon receiving user's feedback, with expectation of improving prediction quality. As the user feedback data is not available at the moment, this feature has not been implemented. Further research will need to find a appropriate reinformance learning method for the problem.\n"
   ]
  }
 ],
 "metadata": {
  "kernelspec": {
   "display_name": "Python 2",
   "language": "python",
   "name": "python2"
  },
  "language_info": {
   "codemirror_mode": {
    "name": "ipython",
    "version": 2
   },
   "file_extension": ".py",
   "mimetype": "text/x-python",
   "name": "python",
   "nbconvert_exporter": "python",
   "pygments_lexer": "ipython2",
   "version": "2.7.9"
  },
  "latex_metadata": {
   "affiliation": "ETRI",
   "author": "Thai Quang Tung",
   "email": "tqtung@gmail.com",
   "title": "Software usage"
  }
 },
 "nbformat": 4,
 "nbformat_minor": 0
}
